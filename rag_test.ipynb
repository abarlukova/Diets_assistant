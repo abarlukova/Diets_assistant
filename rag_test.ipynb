{
 "cells": [
  {
   "cell_type": "code",
   "execution_count": 1,
   "id": "622c2d6f-3f74-4e95-a602-f7980fb335d9",
   "metadata": {},
   "outputs": [
    {
     "name": "stdout",
     "output_type": "stream",
     "text": [
      "--2024-09-04 12:30:41--  https://raw.githubusercontent.com/alexeygrigorev/minsearch/main/minsearch.py\n",
      "Resolving raw.githubusercontent.com (raw.githubusercontent.com)... 185.199.108.133, 185.199.111.133, 185.199.109.133, ...\n",
      "Connecting to raw.githubusercontent.com (raw.githubusercontent.com)|185.199.108.133|:443... connected.\n",
      "HTTP request sent, awaiting response... 200 OK\n",
      "Length: 3832 (3.7K) [text/plain]\n",
      "Saving to: ‘minsearch.py’\n",
      "\n",
      "minsearch.py        100%[===================>]   3.74K  --.-KB/s    in 0s      \n",
      "\n",
      "2024-09-04 12:30:41 (20.8 MB/s) - ‘minsearch.py’ saved [3832/3832]\n",
      "\n"
     ]
    }
   ],
   "source": [
    "!wget https://raw.githubusercontent.com/alexeygrigorev/minsearch/main/minsearch.py"
   ]
  },
  {
   "cell_type": "code",
   "execution_count": 1,
   "id": "25e25adb-d225-41b6-8429-a6c0f2f9ddf7",
   "metadata": {},
   "outputs": [],
   "source": [
    "import minsearch"
   ]
  },
  {
   "cell_type": "code",
   "execution_count": 2,
   "id": "d31ea304-6c4d-47ef-bfdb-ad0ed944ccac",
   "metadata": {},
   "outputs": [],
   "source": [
    "import json"
   ]
  },
  {
   "cell_type": "code",
   "execution_count": 3,
   "id": "79b66fa1-6dff-495c-967d-846027a73ded",
   "metadata": {},
   "outputs": [],
   "source": [
    "import pandas as pd\n",
    "import numpy as np"
   ]
  },
  {
   "cell_type": "code",
   "execution_count": 4,
   "id": "0b33aa17-ff79-4015-99f4-1ed7aab4c644",
   "metadata": {},
   "outputs": [
    {
     "name": "stderr",
     "output_type": "stream",
     "text": [
      "/usr/local/python/3.12.1/lib/python3.12/site-packages/tqdm/auto.py:21: TqdmWarning: IProgress not found. Please update jupyter and ipywidgets. See https://ipywidgets.readthedocs.io/en/stable/user_install.html\n",
      "  from .autonotebook import tqdm as notebook_tqdm\n"
     ]
    }
   ],
   "source": [
    "from tqdm.auto import tqdm"
   ]
  },
  {
   "cell_type": "markdown",
   "id": "d192e295-6080-4609-8119-7920c77573eb",
   "metadata": {},
   "source": [
    "## Ingestion"
   ]
  },
  {
   "cell_type": "code",
   "execution_count": 4,
   "id": "0ec3f1c2-d2e7-44a3-8e9c-55e4a4c0d253",
   "metadata": {},
   "outputs": [],
   "source": [
    "with open('data/qna.js', 'rt') as f_in:\n",
    "    docs_raw = json.load(f_in)"
   ]
  },
  {
   "cell_type": "code",
   "execution_count": 5,
   "id": "b1046264-21e0-4d48-a79f-6f378b67918f",
   "metadata": {},
   "outputs": [],
   "source": [
    "documents = []\n",
    "\n",
    "for section_dict in docs_raw:\n",
    "    for doc in section_dict['documents']:\n",
    "        doc['diet'] = section_dict['section']\n",
    "        documents.append(doc)"
   ]
  },
  {
   "cell_type": "code",
   "execution_count": 6,
   "id": "74b6d697-e8c4-4220-9212-dd4523949442",
   "metadata": {},
   "outputs": [
    {
     "data": {
      "text/plain": [
       "{'question': 'Is a ketogenic diet good for weight loss?',\n",
       " 'answer': 'Research has shown a ketogenic diet can induce rapid weight loss, partly from water loss but also some fat loss. However, the “weight loss effect becomes similar to other dietary approaches after one year,” according to a recent review of low-carb diets. Taking in less energy than you burn will lead to weight loss. The National Diet & Nutrition Survey reports that on average we get almost 50% of our energy from carbs. Cutting this by at least half is likely to reduce total calorie intake, even if it’s replaced with fats. On the other hand, if you eat more calories from fat than your body needs, it will still be stored as fat.',\n",
       " 'link': 'https://www.linkedin.com/pulse/20-most-asked-questions-keto-diet-certified-operation-s-management-/',\n",
       " 'diet': 'keto diet'}"
      ]
     },
     "execution_count": 6,
     "metadata": {},
     "output_type": "execute_result"
    }
   ],
   "source": [
    "documents[0]"
   ]
  },
  {
   "cell_type": "code",
   "execution_count": 16,
   "id": "c2173c31-a1f7-4a8c-ae18-057c1b0a664c",
   "metadata": {},
   "outputs": [],
   "source": [
    "import hashlib\n",
    "\n",
    "def generate_document_id(doc):\n",
    "    combined = f\"{doc['answer'][:10]}-{doc['question']}-{doc['diet']}\"\n",
    "    hash_object = hashlib.md5(combined.encode())\n",
    "    hash_hex = hash_object.hexdigest()\n",
    "    document_id = hash_hex[:8]\n",
    "    return document_id"
   ]
  },
  {
   "cell_type": "code",
   "execution_count": 17,
   "id": "fd5ea2b1-6ebc-48a9-b99d-e3f2f0e3af87",
   "metadata": {},
   "outputs": [],
   "source": [
    "for doc in documents:\n",
    "    doc['id'] = generate_document_id(doc)"
   ]
  },
  {
   "cell_type": "code",
   "execution_count": 18,
   "id": "a0822ec1-a8e6-4d6d-915e-57b2d169c912",
   "metadata": {},
   "outputs": [
    {
     "data": {
      "text/plain": [
       "{'question': 'What is a good keto meal plan?',\n",
       " 'answer': 'A good keto meals plan should include the following foods: Eggs: pastured, organic, or conventional all work fine; Poultry: chicken and turkey; Fatty fish: salmon, herring, and mackerel; Meat: beef & organ meats; Full-fat dairy: unsweetened yogurt, butter, and cream; Full-fat cheese: cheddar, mozzarella, brie, goat cheese, and cream cheese; Nuts and seeds: macadamia nuts, almonds, walnuts, pumpkin seeds and flaxseeds; Nut butter: no-sugar-added peanut, almond, and cashew butter; Oils rich in healthy fats: olive oil, avocado oil, and sesame oil; Avocados: whole avocados can be added to almost any meal or snack; Non-starchy vegetables: greens, broccoli, tomatoes, mushrooms, and peppers; Condiments: salt, pepper, vinegar, lemon juice, fresh herbs, and spices.',\n",
       " 'link': 'https://www.linkedin.com/pulse/20-most-asked-questions-keto-diet-certified-operation-s-management-/',\n",
       " 'diet': 'keto diet',\n",
       " 'id': 'c625fd9e'}"
      ]
     },
     "execution_count": 18,
     "metadata": {},
     "output_type": "execute_result"
    }
   ],
   "source": [
    "documents[3]"
   ]
  },
  {
   "cell_type": "code",
   "execution_count": 13,
   "id": "af3e7240-709c-4a32-b77d-f485015386da",
   "metadata": {},
   "outputs": [],
   "source": [
    "from collections import defaultdict"
   ]
  },
  {
   "cell_type": "code",
   "execution_count": 14,
   "id": "e0d48937-f46d-46a9-adef-973c602fb896",
   "metadata": {},
   "outputs": [],
   "source": [
    "hashes = defaultdict(list)\n",
    "\n",
    "for doc in documents:\n",
    "    doc_id = doc['id']\n",
    "    hashes[doc_id].append(doc)"
   ]
  },
  {
   "cell_type": "code",
   "execution_count": 15,
   "id": "fd74f14d-65a7-4e9f-80ee-a49adf1b8250",
   "metadata": {},
   "outputs": [
    {
     "data": {
      "text/plain": [
       "(79, 79)"
      ]
     },
     "execution_count": 15,
     "metadata": {},
     "output_type": "execute_result"
    }
   ],
   "source": [
    "len(hashes), len(documents)"
   ]
  },
  {
   "cell_type": "code",
   "execution_count": 19,
   "id": "032d9844-f489-4885-b96f-bb6c4464aed9",
   "metadata": {},
   "outputs": [],
   "source": [
    "# with open('documents-with-ids.json', 'wt') as f_out:\n",
    "#    json.dump(documents, f_out, indent=2)"
   ]
  },
  {
   "cell_type": "code",
   "execution_count": 5,
   "id": "215002ae-24b9-469d-8575-455ad6528e43",
   "metadata": {},
   "outputs": [],
   "source": [
    "with open('documents-with-ids.json', 'r') as f_in:\n",
    "    documents = json.load(f_in) # first load here"
   ]
  },
  {
   "cell_type": "code",
   "execution_count": 8,
   "id": "cff146bf-f444-45b9-841b-d97c7e947594",
   "metadata": {},
   "outputs": [
    {
     "name": "stdout",
     "output_type": "stream",
     "text": [
      "[\n",
      "  {\n",
      "    \"question\": \"Is a ketogenic diet good for weight loss?\",\n",
      "    \"answer\": \"Research has shown a ketogenic diet can induce rapid weight loss, partly from water loss but also some fat loss. However, the \\u201cweight loss effect becomes similar to other dietary approaches after one year,\\u201d according to a recent review of low-carb diets. Taking in less energy than you burn will lead to weight loss. The National Diet & Nutrition Survey reports that on average we get almost 50% of our energy from carbs. Cutting this by at least half is likely to reduce total calorie intake, even if it\\u2019s replaced with fats. On the other hand, if you eat more calories from fat than your body needs, it will still be stored as fat.\",\n",
      "    \"link\": \"https://www.linkedin.com/pulse/20-most-asked-questions-keto-diet-certified-operation-s-management-/\",\n",
      "    \"diet\": \"keto diet\",\n",
      "    \"id\": \"973d6f85\"\n",
      "  },\n",
      "  {\n",
      "    \"question\": \"What is the keto diet?\",\n"
     ]
    }
   ],
   "source": [
    "!head documents-with-ids.json"
   ]
  },
  {
   "cell_type": "code",
   "execution_count": 32,
   "id": "c03b1ab7-dd68-42a4-86d9-8eaff08522b7",
   "metadata": {},
   "outputs": [],
   "source": [
    "from minsearch import Index\n",
    "\n",
    "index = Index(\n",
    "    text_fields=[\"question\", \"answer\"],\n",
    "    keyword_fields=[\"diet\"]\n",
    ")"
   ]
  },
  {
   "cell_type": "code",
   "execution_count": 33,
   "id": "d161c376-b46d-4dde-8e70-c52c9b236721",
   "metadata": {},
   "outputs": [
    {
     "data": {
      "text/plain": [
       "<minsearch.Index at 0x7120d7cc6ba0>"
      ]
     },
     "execution_count": 33,
     "metadata": {},
     "output_type": "execute_result"
    }
   ],
   "source": [
    "index.fit(documents)"
   ]
  },
  {
   "cell_type": "markdown",
   "id": "09e662e5-0f9e-4c6a-acd1-76999a6f9c75",
   "metadata": {
    "jp-MarkdownHeadingCollapsed": true
   },
   "source": [
    "## RAG flow for MINSEARCH"
   ]
  },
  {
   "cell_type": "code",
   "execution_count": 18,
   "id": "36f678a4-85eb-4774-bb92-ccd2ae08d89c",
   "metadata": {},
   "outputs": [],
   "source": [
    "from openai import OpenAI\n",
    "client = OpenAI()"
   ]
  },
  {
   "cell_type": "code",
   "execution_count": 38,
   "id": "9bcfcc74-c87e-4c81-9ca5-e1576697523d",
   "metadata": {},
   "outputs": [],
   "source": [
    "def search(q):\n",
    "    \n",
    "    boost = {'answer': 3.0}\n",
    "\n",
    "    results = index.search(\n",
    "        query = q,\n",
    "        filter_dict = {'diet': 'keto diet'},\n",
    "        boost_dict = boost,\n",
    "        num_results = 5\n",
    "    )\n",
    "    return results\n",
    "\n",
    "\n",
    "    \n",
    "def build_prompt(query, search_results):\n",
    "    prompt_template = \"\"\"\n",
    "    You're a diet assistant. Answer the QUESTION based on the CONTEXT from the FAQ database.\n",
    "    Use only the facts from the CONTEXT when answering the QUESTION.\n",
    "    \n",
    "    QUESTION: {question}\n",
    "    \n",
    "    CONTEXT: \n",
    "    {context}\n",
    "    \"\"\".strip()\n",
    "\n",
    "    context = \"\"\n",
    "    \n",
    "    for doc in search_results:\n",
    "        context = context + f\"diet: {doc['diet']}\\nquestion: {doc['question']}\\nanswer: {doc['answer']}\\n\\n\"\n",
    "    \n",
    "    prompt = prompt_template.format(question=query, context=context).strip()\n",
    "    return prompt\n",
    "def llm(prompt):\n",
    "    response = client.chat.completions.create(\n",
    "        model='gpt-4o-mini',\n",
    "        messages=[{\"role\": \"user\", \"content\": prompt}]\n",
    "    )\n",
    "    \n",
    "    return response.choices[0].message.content\n",
    "\n",
    "def rag(query):\n",
    "    search_results = search(query)\n",
    "    prompt = build_prompt(query, search_results)\n",
    "    answer = llm(prompt)\n",
    "    return answer"
   ]
  },
  {
   "cell_type": "code",
   "execution_count": 16,
   "id": "c50a3702-903a-4437-a904-afd00fef706e",
   "metadata": {},
   "outputs": [],
   "source": [
    "q = \"Can keto diet be harmful?\""
   ]
  },
  {
   "cell_type": "code",
   "execution_count": 21,
   "id": "44642250-e3c6-468c-be97-fe5e4701fab1",
   "metadata": {},
   "outputs": [
    {
     "data": {
      "text/plain": [
       "'Yes, the keto diet can be harmful, especially for people with diabetes. It can pose health risks if followed without medical supervision, as drastically cutting carbs can lead to dangerously low blood sugar (hypoglycemia) for those on medication to lower blood sugar or using insulin. This condition can result in severe health issues such as seizures and loss of consciousness. Additionally, there is no consensus on whether keto is an effective long-term dietary approach for managing diabetes, and it can be difficult to adhere to. Therefore, individuals with type 2 diabetes should work closely with their doctor when considering the keto diet.'"
      ]
     },
     "execution_count": 21,
     "metadata": {},
     "output_type": "execute_result"
    }
   ],
   "source": [
    "rag(q)"
   ]
  },
  {
   "cell_type": "markdown",
   "id": "9fbb83c7-ce6a-47fe-8f0e-b5de66435b03",
   "metadata": {},
   "source": [
    "## RAG flow for elasticsearch"
   ]
  },
  {
   "cell_type": "markdown",
   "id": "629c5a01-0ece-4cab-ba25-6ac0914d66bc",
   "metadata": {},
   "source": [
    "### Create embeddings using pretrained models"
   ]
  },
  {
   "cell_type": "code",
   "execution_count": 6,
   "id": "9ab2c394-2d37-484f-b416-48836db9aaab",
   "metadata": {},
   "outputs": [],
   "source": [
    "from sentence_transformers import SentenceTransformer"
   ]
  },
  {
   "cell_type": "code",
   "execution_count": 23,
   "id": "519c35c3-a054-4e2e-9a27-866213742943",
   "metadata": {},
   "outputs": [
    {
     "name": "stderr",
     "output_type": "stream",
     "text": [
      "/usr/local/python/3.12.1/lib/python3.12/site-packages/transformers/tokenization_utils_base.py:1601: FutureWarning: `clean_up_tokenization_spaces` was not set. It will be set to `True` by default. This behavior will be depracted in transformers v4.45, and will be then set to `False` by default. For more details check this issue: https://github.com/huggingface/transformers/issues/31884\n",
      "  warnings.warn(\n"
     ]
    }
   ],
   "source": [
    "model = SentenceTransformer(\"multi-qa-MiniLM-L6-cos-v1\")"
   ]
  },
  {
   "cell_type": "code",
   "execution_count": 8,
   "id": "9a2575a7-b9b6-4f3f-8bf8-c2517ae2f470",
   "metadata": {},
   "outputs": [],
   "source": [
    "q = \"Can keto diet be harmful?\""
   ]
  },
  {
   "cell_type": "code",
   "execution_count": 26,
   "id": "3f1a54d0-c4b3-429d-9406-a59cf3371240",
   "metadata": {},
   "outputs": [],
   "source": [
    "v = model.encode(q)"
   ]
  },
  {
   "cell_type": "code",
   "execution_count": 27,
   "id": "ae750a2f-2f94-4f96-8ace-d631107b875b",
   "metadata": {},
   "outputs": [
    {
     "data": {
      "text/plain": [
       "384"
      ]
     },
     "execution_count": 27,
     "metadata": {},
     "output_type": "execute_result"
    }
   ],
   "source": [
    "len(v)"
   ]
  },
  {
   "cell_type": "code",
   "execution_count": 11,
   "id": "3fb650a9-e4af-460c-9e67-bf7228ea7254",
   "metadata": {},
   "outputs": [
    {
     "data": {
      "text/plain": [
       "ObjectApiResponse({'acknowledged': True, 'shards_acknowledged': True, 'index': 'diets-questions'})"
      ]
     },
     "execution_count": 11,
     "metadata": {},
     "output_type": "execute_result"
    }
   ],
   "source": [
    "from elasticsearch import Elasticsearch\n",
    "\n",
    "es_client = Elasticsearch('http://localhost:9200') \n",
    "\n",
    "index_settings = {\n",
    "    \"settings\": {\n",
    "        \"number_of_shards\": 1,\n",
    "        \"number_of_replicas\": 0\n",
    "    },\n",
    "    \"mappings\": {\n",
    "        \"properties\": {\n",
    "            \"answer\": {\"type\": \"text\"},\n",
    "            \"diet\": {\"type\": \"keyword\"},\n",
    "            \"question\": {\"type\": \"text\"},\n",
    "            \"link\": {\"type\": \"text\"},\n",
    "            \"id\": {\"type\": \"keyword\"},\n",
    "            \"question_vector\": {\n",
    "                \"type\": \"dense_vector\",\n",
    "                \"dims\": 384,\n",
    "                \"index\": True,\n",
    "                \"similarity\": \"cosine\"\n",
    "            },\n",
    "            \"answer_vector\": {\n",
    "                \"type\": \"dense_vector\",\n",
    "                \"dims\": 384,\n",
    "                \"index\": True,\n",
    "                \"similarity\": \"cosine\"\n",
    "            },\n",
    "            \"question_answer_vector\": {\n",
    "                \"type\": \"dense_vector\",\n",
    "                \"dims\": 384,\n",
    "                \"index\": True,\n",
    "                \"similarity\": \"cosine\"\n",
    "            },\n",
    "        }\n",
    "    }\n",
    "}\n",
    "\n",
    "index_name = \"diets-questions\"\n",
    "\n",
    "es_client.indices.delete(index=index_name, ignore_unavailable=True)\n",
    "es_client.indices.create(index=index_name, body=index_settings)"
   ]
  },
  {
   "cell_type": "code",
   "execution_count": 13,
   "id": "f852b70f-92ae-4633-bd35-1ee92cfce76b",
   "metadata": {},
   "outputs": [],
   "source": [
    "search_query = {\n",
    "\n",
    "    \"field\" : \"question_vector\",\n",
    "    \"query_vector\" : v,\n",
    "    \"k\" : 5,\n",
    "    \"num_candidates\" : 10000,\n",
    "}"
   ]
  },
  {
   "cell_type": "code",
   "execution_count": 12,
   "id": "53711f6f-1b02-418a-8ed0-39a3402af962",
   "metadata": {},
   "outputs": [
    {
     "name": "stderr",
     "output_type": "stream",
     "text": [
      "100%|█████████████████████████████████████████████████| 79/79 [00:08<00:00,  8.96it/s]\n"
     ]
    }
   ],
   "source": [
    "for doc in tqdm(documents):\n",
    "    question = doc['question']\n",
    "    answer =  doc['answer']\n",
    "    qa = question + '    ' + answer\n",
    "    \n",
    "    doc['question_vector'] = model.encode(question)\n",
    "    doc['answer_vector'] = model.encode(answer)\n",
    "    doc['question_answer_vector'] = model.encode(qa)"
   ]
  },
  {
   "cell_type": "code",
   "execution_count": 13,
   "id": "aca43243-6ba1-4956-9477-908974f28925",
   "metadata": {},
   "outputs": [
    {
     "name": "stderr",
     "output_type": "stream",
     "text": [
      "100%|█████████████████████████████████████████████████| 79/79 [00:02<00:00, 31.12it/s]\n"
     ]
    }
   ],
   "source": [
    "for doc in tqdm(documents):\n",
    "    es_client.index(index=index_name, document=doc)"
   ]
  },
  {
   "cell_type": "code",
   "execution_count": 35,
   "id": "68e7f7dd-80bd-45c8-b081-519627b67871",
   "metadata": {},
   "outputs": [],
   "source": [
    "def elastic_search_knn(field, vector, diet):\n",
    "    knn = {\n",
    "        \"field\": field,\n",
    "        \"query_vector\": vector,\n",
    "        \"k\": 5,\n",
    "        \"num_candidates\": 10000,\n",
    "        \"filter\": {\n",
    "            \"term\": {\n",
    "                \"diet\": diet\n",
    "            }\n",
    "        }\n",
    "    }\n",
    "    \n",
    "    search_query = {\n",
    "    \"knn\": knn,\n",
    "    \"_source\": [\"answer\", \"diet\", \"question\", \"link\", \"id\"]\n",
    "    }\n",
    "    \n",
    "    es_results = es_client.search(\n",
    "        index=index_name,\n",
    "        body=search_query\n",
    "    )\n",
    "    \n",
    "    result_docs = []\n",
    "    \n",
    "    for hit in es_results['hits']['hits']:\n",
    "        result_docs.append(hit['_source'])\n",
    "    return result_docs\n",
    "\n",
    "\n",
    "def question_answer_vector_knn(q):\n",
    "    question = q['question']\n",
    "    diet = q['diet']\n",
    "\n",
    "    v_q = model.encode(question)\n",
    "\n",
    "    return elastic_search_knn('question_answer_vector', v_q, diet)"
   ]
  },
  {
   "cell_type": "code",
   "execution_count": 15,
   "id": "328de94d-82f3-4079-9df4-00d1ab745ac7",
   "metadata": {},
   "outputs": [
    {
     "data": {
      "text/plain": [
       "[{'question': 'Is keto dieting safe?',\n",
       "  'answer': 'The keto diet could cause low blood pressure, kidney stones, constipation, nutrient deficiencies, and an increased risk of heart disease. Strict diets like keto could also cause social isolation or disordered eating. Keto is not safe for those with any conditions involving their pancreas, liver, thyroid, or gallbladder. Someone new to the keto diet can also experience what has been called the “keto flu” with symptoms like upset stomach, dizziness, decreased energy, and mood swings caused by your body adapting to ketosis.',\n",
       "  'link': 'https://www.linkedin.com/pulse/20-most-asked-questions-keto-diet-certified-operation-s-management-/',\n",
       "  'diet': 'keto diet',\n",
       "  'id': 'c85cad6f'},\n",
       " {'question': 'Is the Keto Diet Safe to Follow?',\n",
       "  'answer': \"Even though following an extremely high-fat diet can feel like a radical way to eat, 'the research looking at ketosis via diet has not shown any real negative consequences when done in the short term,' says Scott Keatley, RDN, of Keatley Medical Nutrition Therapy in New York City. (Ketosis is the natural metabolic state in which your body is burning fat instead of its usual fuel source, glucose, which is a kind of sugar.) But there have been few long-term studies, adds Kendra Whitmire, CNS, who practices functional and therapeutic nutrition in Laguna Beach, California. It’s difficult to definitively say that it’s safe, and it also largely depends on the types of foods you’re eating on the diet. (For instance, olive oil is a healthier choice than butter; salmon is healthier than bacon.) That said, following the keto diet properly, and particularly with help from a medical professional, should reduce negative health effects, says Whitmire.\",\n",
       "  'link': 'https://www.everydayhealth.com/ketogenic-diet/diet/burning-questions-about-keto-diet-answered/',\n",
       "  'diet': 'keto diet',\n",
       "  'id': '9fca21c3'},\n",
       " {'question': 'Is ketogenic diet good for your body?',\n",
       "  'answer': 'While the ketogenic diet may be recommended for some people with uncontrolled epilepsy, the high-fat content — and especially the high level of unhealthy saturated fat — combined with limits on nutrient-rich fruits, veggies, and grains is a concern for long-term heart health.',\n",
       "  'link': 'https://www.linkedin.com/pulse/20-most-asked-questions-keto-diet-certified-operation-s-management-/',\n",
       "  'diet': 'keto diet',\n",
       "  'id': '5ae7a1b5'},\n",
       " {'question': 'Is the Keto Diet Healthy?',\n",
       "  'answer': 'The keto diet originated as a therapeutic diet used to control seizures in people who have epilepsy, according to the Epilepsy Foundation. For those people, a keto diet may be necessary for their health. But most people certainly don’t have to go on the keto diet in order to be healthy. Today, the diet has become trendy, and many people are using it to lose weight. However, eating high levels of saturated fat may pose a risk for long-term heart health — and in the short term, severely low carb diets may come with unpleasant side effects, like constipation and headaches, notes the Mayo Clinic. Given the restrictive nature of keto (it eliminates most fruit and dairy, whole grains, many vegetables, and legumes), you may also fall short in terms of certain nutrients, like fiber.',\n",
       "  'link': 'https://www.everydayhealth.com/ketogenic-diet/diet/burning-questions-about-keto-diet-answered/',\n",
       "  'diet': 'keto diet',\n",
       "  'id': 'ddbe583f'},\n",
       " {'question': 'Is the keto diet healthy over a long period of time?',\n",
       "  'answer': 'It is unclear how effective keto is in the long term, and — as with all restrictive diets — there is a good chance you will put the weight back on when you stop following it. Keto can have health benefits for people, including those with obesity, those trying to control their blood sugar levels, and people with certain hard-to-treat forms of epilepsy. However, if you are not working with a healthcare professional, the keto diet may come with health risks. In addition, if you do not carefully manage what you eat, you could miss important nutrients, including fiber. Before starting any diet, you should consider whether you actually need to lose weight. Work with a healthcare professional to find the weight range that is best for your health.',\n",
       "  'link': 'https://www.linkedin.com/pulse/20-most-asked-questions-keto-diet-certified-operation-s-management-/',\n",
       "  'diet': 'keto diet',\n",
       "  'id': '418404aa'}]"
      ]
     },
     "execution_count": 15,
     "metadata": {},
     "output_type": "execute_result"
    }
   ],
   "source": [
    "elastic_search_knn(\"question_vector\", v, \"keto diet\")"
   ]
  },
  {
   "cell_type": "code",
   "execution_count": 40,
   "id": "d30e5704-7f8b-47da-81b1-78341c164382",
   "metadata": {},
   "outputs": [],
   "source": [
    "def elastic_search_knn_combined(vector, diet):\n",
    "    search_query = {\n",
    "        \"size\": 5,\n",
    "        \"query\": {\n",
    "            \"bool\": {\n",
    "                \"must\": [\n",
    "                    {\n",
    "                        \"script_score\": {\n",
    "                            \"query\": {\n",
    "                                \"term\": {\n",
    "                                    \"diet\": diet\n",
    "                                }\n",
    "                            },\n",
    "                            \"script\": {\n",
    "                                \"source\": \"\"\"\n",
    "                                    cosineSimilarity(params.query_vector, 'question_vector') + \n",
    "                                    cosineSimilarity(params.query_vector, 'answer_vector') + \n",
    "                                    cosineSimilarity(params.query_vector, 'question_answer_vector') + \n",
    "                                    1\n",
    "                                \"\"\",\n",
    "                                \"params\": {\n",
    "                                    \"query_vector\": vector\n",
    "                                }\n",
    "                            }\n",
    "                        }\n",
    "                    }\n",
    "                ],\n",
    "                \"filter\": {\n",
    "                    \"term\": {\n",
    "                        \"diet\": diet\n",
    "                    }\n",
    "                }\n",
    "            }\n",
    "        },\n",
    "        \"_source\": [\"answer\", \"diet\", \"question\", \"link\", \"id\"]\n",
    "    }\n",
    "\n",
    "    es_results = es_client.search(\n",
    "        index=index_name,\n",
    "        body=search_query\n",
    "    )\n",
    "    \n",
    "    result_docs = []\n",
    "    \n",
    "    for hit in es_results['hits']['hits']:\n",
    "        result_docs.append(hit['_source'])\n",
    "\n",
    "    return result_docs"
   ]
  },
  {
   "cell_type": "markdown",
   "id": "88e1d6fb-6f7d-4a6c-8a8f-7b3c5c0053c2",
   "metadata": {},
   "source": [
    "### gpt-4o-mini"
   ]
  },
  {
   "cell_type": "code",
   "execution_count": 14,
   "id": "5fdef6be-ebd4-49f8-8841-da4bcaf22dec",
   "metadata": {},
   "outputs": [],
   "source": [
    "#!pip install python-dotenv\n",
    "\n",
    "from dotenv import load_dotenv\n",
    "\n",
    "\n",
    "from openai import OpenAI\n",
    "\n",
    "# Load environment variables from .env file\n",
    "load_dotenv()\n",
    "\n",
    "# Get the API key from the environment\n",
    "api_key = os.getenv(\"OPENAI_API_KEY\")\n",
    "\n",
    "# Initialize the OpenAI client\n",
    "client = OpenAI(api_key=api_key)\n",
    "\n"
   ]
  },
  {
   "cell_type": "code",
   "execution_count": 15,
   "id": "0bb51c5b-5312-44b5-a06f-6aa94e0b8fba",
   "metadata": {},
   "outputs": [],
   "source": [
    "   \n",
    "def build_prompt(query, search_results):\n",
    "    prompt_template = \"\"\"\n",
    "    You're a diet assistant. Answer the QUESTION based on the CONTEXT from the FAQ database.\n",
    "    Use only the facts from the CONTEXT when answering the QUESTION.\n",
    "    \n",
    "    QUESTION: {question}\n",
    "    \n",
    "    CONTEXT: \n",
    "    {context}\n",
    "    \"\"\".strip()\n",
    "\n",
    "    context = \"\"\n",
    "    \n",
    "    for doc in search_results:\n",
    "        context = context + f\"diet: {doc['diet']}\\nquestion: {doc['question']}\\nanswer: {doc['answer']}\\n\\n\"\n",
    "    \n",
    "    prompt = prompt_template.format(question=query, context=context).strip()\n",
    "    return prompt\n",
    "    \n",
    "def llm(prompt):\n",
    "    response = client.chat.completions.create(\n",
    "        model='gpt-4o-mini',\n",
    "        messages=[{\"role\": \"user\", \"content\": prompt}]\n",
    "    )\n",
    "    \n",
    "    return response.choices[0].message.content\n",
    "\n",
    "def rag(query: dict) -> str:  \n",
    "    search_results = question_answer_vector_knn(query)\n",
    "    prompt = build_prompt(query, search_results)\n",
    "    answer = llm(prompt)\n",
    "    return answer"
   ]
  },
  {
   "cell_type": "code",
   "execution_count": 41,
   "id": "1052aff6-fdc1-4174-b150-b07cdef6efb3",
   "metadata": {},
   "outputs": [
    {
     "data": {
      "text/plain": [
       "'Research has shown a ketogenic diet can induce rapid weight loss, partly from water loss but also some fat loss. However, the “weight loss effect becomes similar to other dietary approaches after one year,” according to a recent review of low-carb diets. Taking in less energy than you burn will lead to weight loss. The National Diet & Nutrition Survey reports that on average we get almost 50% of our energy from carbs. Cutting this by at least half is likely to reduce total calorie intake, even if it’s replaced with fats. On the other hand, if you eat more calories from fat than your body needs, it will still be stored as fat.'"
      ]
     },
     "execution_count": 41,
     "metadata": {},
     "output_type": "execute_result"
    }
   ],
   "source": [
    "doc_idx = {d['id']: d for d in documents}\n",
    "\n",
    "doc_idx['973d6f85']['answer']"
   ]
  },
  {
   "cell_type": "code",
   "execution_count": 40,
   "id": "5fba2527-c74f-4559-9a5f-d7e0ce1b411d",
   "metadata": {},
   "outputs": [],
   "source": [
    "answers = {}"
   ]
  },
  {
   "cell_type": "code",
   "execution_count": 42,
   "id": "e407279d-4333-405d-9ad0-082e1e678daa",
   "metadata": {},
   "outputs": [
    {
     "name": "stderr",
     "output_type": "stream",
     "text": [
      "100%|███████████████████████████████████████████████| 395/395 [10:33<00:00,  1.60s/it]\n"
     ]
    }
   ],
   "source": [
    "for i, rec in enumerate(tqdm(ground_truth)):\n",
    "    if i in answers:\n",
    "        continue\n",
    "\n",
    "    answer_llm = rag(rec)\n",
    "    doc_id = rec['document']\n",
    "    original_doc = doc_idx[doc_id]\n",
    "    answer_orig = original_doc['answer']\n",
    "\n",
    "    answers[i] = {\n",
    "        'answer_llm': answer_llm,\n",
    "        'answer_orig': answer_orig,\n",
    "        'id': doc_id,\n",
    "        'question': rec['question'],\n",
    "        'diet': rec['diet'],\n",
    "    }"
   ]
  },
  {
   "cell_type": "code",
   "execution_count": 44,
   "id": "e327dcd9-cf63-4e15-827f-5bb876127544",
   "metadata": {},
   "outputs": [],
   "source": [
    "results_gpt4omini = [None] * len(ground_truth)\n",
    "\n",
    "for i, val in answers.items():\n",
    "    results_gpt4omini[i] = val.copy()\n",
    "    results_gpt4omini[i].update(ground_truth[i])"
   ]
  },
  {
   "cell_type": "code",
   "execution_count": 45,
   "id": "ebe15676-d830-4202-9b7b-f0fa9741619c",
   "metadata": {},
   "outputs": [
    {
     "data": {
      "text/plain": [
       "{'answer_llm': \"Research has shown that a ketogenic diet can induce rapid weight loss, primarily due to both water loss and some fat loss. However, the weight loss effect tends to become similar to other dietary approaches after one year. The effectiveness of the diet is linked to a reduction in carbohydrate intake, which is likely to lead to a lower overall calorie intake. It's important to note that if more calories from fat are consumed than the body needs, those excess calories will be stored as fat.\",\n",
       " 'answer_orig': 'Research has shown a ketogenic diet can induce rapid weight loss, partly from water loss but also some fat loss. However, the “weight loss effect becomes similar to other dietary approaches after one year,” according to a recent review of low-carb diets. Taking in less energy than you burn will lead to weight loss. The National Diet & Nutrition Survey reports that on average we get almost 50% of our energy from carbs. Cutting this by at least half is likely to reduce total calorie intake, even if it’s replaced with fats. On the other hand, if you eat more calories from fat than your body needs, it will still be stored as fat.',\n",
       " 'id': '973d6f85',\n",
       " 'question': 'What evidence exists to support the effectiveness of a ketogenic diet for weight loss?',\n",
       " 'diet': 'keto diet',\n",
       " 'document': '973d6f85'}"
      ]
     },
     "execution_count": 45,
     "metadata": {},
     "output_type": "execute_result"
    }
   ],
   "source": [
    "results_gpt4omini[0]"
   ]
  },
  {
   "cell_type": "markdown",
   "id": "24d2383b-6da2-461b-a430-789d3f97eeaf",
   "metadata": {},
   "source": [
    "## Save the results of gpt-4o-mini"
   ]
  },
  {
   "cell_type": "code",
   "execution_count": 47,
   "id": "58195b96-30bc-4464-b821-1b6119a5f155",
   "metadata": {},
   "outputs": [],
   "source": [
    "df_gpt4omini = pd.DataFrame(results_gpt4omini)\n",
    "df_gpt4omini.to_csv('data/results-gpt4omini.csv', index=False)"
   ]
  },
  {
   "cell_type": "code",
   "execution_count": 48,
   "id": "dffae589-77ed-46f2-b1ae-7ab197c0b057",
   "metadata": {},
   "outputs": [],
   "source": [
    "def compute_similarity(record):\n",
    "    answer_orig = record['answer_orig']\n",
    "    answer_llm = record['answer_llm']\n",
    "    \n",
    "    v_llm = model.encode(answer_llm)\n",
    "    v_orig = model.encode(answer_orig)\n",
    "    \n",
    "    return v_llm.dot(v_orig)"
   ]
  },
  {
   "cell_type": "code",
   "execution_count": 49,
   "id": "d9062f63-3091-466d-8aac-b46498394a18",
   "metadata": {},
   "outputs": [
    {
     "name": "stderr",
     "output_type": "stream",
     "text": [
      "100%|███████████████████████████████████████████████| 395/395 [00:33<00:00, 11.91it/s]\n"
     ]
    }
   ],
   "source": [
    "similarity = []\n",
    "\n",
    "for record in tqdm(results_gpt4omini):\n",
    "    sim = compute_similarity(record)\n",
    "    similarity.append(sim)"
   ]
  },
  {
   "cell_type": "code",
   "execution_count": 51,
   "id": "30620366-0ac4-467b-8486-d6fa2a6c081c",
   "metadata": {},
   "outputs": [
    {
     "data": {
      "text/plain": [
       "count    395.000000\n",
       "mean       0.776664\n",
       "std        0.139467\n",
       "min        0.220716\n",
       "25%        0.705947\n",
       "50%        0.798396\n",
       "75%        0.879593\n",
       "max        1.000000\n",
       "Name: cosine, dtype: float64"
      ]
     },
     "execution_count": 51,
     "metadata": {},
     "output_type": "execute_result"
    }
   ],
   "source": [
    "df_gpt4omini['cosine'] = similarity\n",
    "df_gpt4omini['cosine'].describe()"
   ]
  },
  {
   "cell_type": "code",
   "execution_count": 53,
   "id": "90177c46-1384-41cc-930a-a8b0a85a7eb5",
   "metadata": {},
   "outputs": [],
   "source": [
    "import seaborn as sns"
   ]
  },
  {
   "cell_type": "code",
   "execution_count": 54,
   "id": "8ebb2137-3efd-41f2-8052-7b1fd821a965",
   "metadata": {},
   "outputs": [
    {
     "name": "stderr",
     "output_type": "stream",
     "text": [
      "/tmp/ipykernel_7002/159869048.py:1: UserWarning: \n",
      "\n",
      "`distplot` is a deprecated function and will be removed in seaborn v0.14.0.\n",
      "\n",
      "Please adapt your code to use either `displot` (a figure-level function with\n",
      "similar flexibility) or `histplot` (an axes-level function for histograms).\n",
      "\n",
      "For a guide to updating your code to use the new functions, please see\n",
      "https://gist.github.com/mwaskom/de44147ed2974457ad6372750bbe5751\n",
      "\n",
      "  sns.distplot(df_gpt4omini['cosine'])\n"
     ]
    },
    {
     "data": {
      "text/plain": [
       "<Axes: xlabel='cosine', ylabel='Density'>"
      ]
     },
     "execution_count": 54,
     "metadata": {},
     "output_type": "execute_result"
    },
    {
     "data": {
      "image/png": "[encoded data removed]",
      "text/plain": [
       "<Figure size 640x480 with 1 Axes>"
      ]
     },
     "metadata": {},
     "output_type": "display_data"
    }
   ],
   "source": [
    "sns.distplot(df_gpt4omini['cosine'])"
   ]
  },
  {
   "cell_type": "code",
   "execution_count": 39,
   "id": "351f66eb-cd4c-423a-92d5-b1e1b4a2c196",
   "metadata": {},
   "outputs": [
    {
     "data": {
      "text/plain": [
       "\"Research has shown that a ketogenic diet can induce rapid weight loss, partly due to water loss and some fat loss. However, a recent review indicates that the weight loss effect becomes similar to other dietary approaches after one year. The principle behind weight loss is taking in less energy than you burn, and since the National Diet & Nutrition Survey shows that nearly 50% of our energy typically comes from carbs, cutting carb intake significantly could lead to a reduction in total calorie intake. Nonetheless, if fat consumption exceeds the body's energy needs, the excess will still be stored as fat.\""
      ]
     },
     "execution_count": 39,
     "metadata": {},
     "output_type": "execute_result"
    }
   ],
   "source": [
    "rag(ground_truth[0])"
   ]
  },
  {
   "cell_type": "code",
   "execution_count": null,
   "id": "ca48cd1b-6884-4b16-b80f-97d93d6eaec8",
   "metadata": {},
   "outputs": [],
   "source": []
  },
  {
   "cell_type": "code",
   "execution_count": 31,
   "id": "44c063bb-0e1e-45bc-910c-a56ca7837f59",
   "metadata": {},
   "outputs": [],
   "source": [
    "v = model.encode(ground_truth[0]['question'])"
   ]
  },
  {
   "cell_type": "code",
   "execution_count": 54,
   "id": "e08a8185-c6ee-44f6-8e73-5297c046d372",
   "metadata": {},
   "outputs": [
    {
     "data": {
      "text/plain": [
       "'Research has shown a ketogenic diet can induce rapid weight loss, partly from water loss but also some fat loss. However, the “weight loss effect becomes similar to other dietary approaches after one year,” according to a recent review of low-carb diets. Taking in less energy than you burn will lead to weight loss. The National Diet & Nutrition Survey reports that on average we get almost 50% of our energy from carbs. Cutting this by at least half is likely to reduce total calorie intake, even if it’s replaced with fats. On the other hand, if you eat more calories from fat than your body needs, it will still be stored as fat.'"
      ]
     },
     "execution_count": 54,
     "metadata": {},
     "output_type": "execute_result"
    }
   ],
   "source": []
  },
  {
   "cell_type": "markdown",
   "id": "d9952210-16c5-4fba-a1d5-d3cc3af65c43",
   "metadata": {
    "jp-MarkdownHeadingCollapsed": true
   },
   "source": [
    "## Generation of ground truth data"
   ]
  },
  {
   "cell_type": "code",
   "execution_count": 24,
   "id": "a96d7768-c924-41f5-bf26-c806d3e0ba33",
   "metadata": {},
   "outputs": [],
   "source": [
    "prompt_template = \"\"\"\n",
    "You emulate a person who wants to know more about specific diet.\n",
    "Formulate 5 questions this person might ask based on a FAQ record. The record\n",
    "should contain the answer to the questions, and the questions should be complete and not too short.\n",
    "If possible, use as fewer words as possible from the record. \n",
    "\n",
    "The record:\n",
    "\n",
    "diet: {diet}\n",
    "question: {question}\n",
    "answer: {answer}\n",
    "\n",
    "Provide the output in parsable JSON without using code blocks:\n",
    "\n",
    "[\"question1\", \"question2\", ..., \"question5\"]\n",
    "\"\"\".strip()"
   ]
  },
  {
   "cell_type": "code",
   "execution_count": 25,
   "id": "48c21ed2-61a3-4b96-aaa0-474f8044ad95",
   "metadata": {},
   "outputs": [],
   "source": [
    "def generate_questions(doc):\n",
    "    prompt = prompt_template.format(**doc)\n",
    "\n",
    "    response = client.chat.completions.create(\n",
    "        model='gpt-4o-mini',\n",
    "        messages=[{\"role\": \"user\", \"content\": prompt}]\n",
    "    )\n",
    "\n",
    "    json_response = response.choices[0].message.content\n",
    "    return json_response"
   ]
  },
  {
   "cell_type": "code",
   "execution_count": 27,
   "id": "04afdc48-c5d7-42fa-8923-a83b763c5aae",
   "metadata": {},
   "outputs": [
    {
     "name": "stderr",
     "output_type": "stream",
     "text": [
      "100%|█████████████████████████████████████████████████████| 79/79 [01:30<00:00,  1.15s/it]\n"
     ]
    }
   ],
   "source": [
    "results = {}\n",
    "for doc in tqdm(documents): \n",
    "    doc_id = doc['id']\n",
    "    if doc_id in results:\n",
    "        continue\n",
    "\n",
    "    questions = generate_questions(doc)\n",
    "    results[doc_id] = questions"
   ]
  },
  {
   "cell_type": "code",
   "execution_count": null,
   "id": "29a42153-30a0-4a0e-8e4a-9bbdaa8c6fce",
   "metadata": {},
   "outputs": [],
   "source": [
    "# Save to a file or use as needed\n",
    "# with open('questions.json', 'w') as json_file:\n",
    "#    json.dump(results, json_file, indent=2)"
   ]
  },
  {
   "cell_type": "code",
   "execution_count": 52,
   "id": "051ab233-6d00-42d0-b33c-1fdce739bdd8",
   "metadata": {},
   "outputs": [],
   "source": [
    "with open('questions.json', 'r') as json_file:\n",
    "    json_data = json.load(json_file)"
   ]
  },
  {
   "cell_type": "code",
   "execution_count": 53,
   "id": "370c0ceb-05bf-477a-a90e-10cc00919781",
   "metadata": {},
   "outputs": [],
   "source": [
    "parsed_results = {}\n",
    "\n",
    "for doc_id, json_questions in json_data.items():\n",
    "    parsed_results[doc_id] = json.loads(json_questions)"
   ]
  },
  {
   "cell_type": "code",
   "execution_count": 54,
   "id": "6fc66bc4-54ab-4c15-afed-d5368c96769a",
   "metadata": {},
   "outputs": [
    {
     "name": "stdout",
     "output_type": "stream",
     "text": [
      "question,diet,document\n",
      "What evidence exists to support the effectiveness of a ketogenic diet for weight loss?,keto diet,973d6f85\n",
      "How does the initial weight loss on a ketogenic diet compare to other diets over time?,keto diet,973d6f85\n",
      "What is the impact of carbohydrate intake on overall calorie consumption in a ketogenic diet?,keto diet,973d6f85\n",
      "Can excess fat consumption on a ketogenic diet lead to weight gain?,keto diet,973d6f85\n",
      "What role do water loss and fat loss play in the rapid weight loss associated with ketogenic diets?,keto diet,973d6f85\n",
      "Can you explain the main principles of the ketogenic diet?,keto diet,f5ef0117\n",
      "How does the keto diet affect carbohydrate and fat intake?,keto diet,f5ef0117\n",
      "What metabolic state does the body enter when following the keto diet?,keto diet,f5ef0117\n",
      "What are the benefits of having elevated ketones in the body?,keto diet,f5ef0117\n"
     ]
    }
   ],
   "source": [
    "doc_index = {d['id']: d for d in documents}\n",
    "final_results = []\n",
    "\n",
    "for doc_id, questions in parsed_results.items():\n",
    "    course = doc_index[doc_id]['diet']\n",
    "    for q in questions:\n",
    "        final_results.append((q, course, doc_id))\n",
    "\n",
    "df = pd.DataFrame(final_results, columns=['question', 'diet', 'id'])\n",
    "df.to_csv('ground-truth-data.csv', index=False)\n",
    "!head ground-truth-data.csv"
   ]
  },
  {
   "cell_type": "markdown",
   "id": "dc1b0157-3b2a-4446-90c2-68321322f676",
   "metadata": {
    "jp-MarkdownHeadingCollapsed": true
   },
   "source": [
    "## Retrieval evaluation for minsearch"
   ]
  },
  {
   "cell_type": "code",
   "execution_count": 18,
   "id": "29ea5a8f-392c-49c4-b8fa-822dea10d6b4",
   "metadata": {},
   "outputs": [],
   "source": [
    "df_question = pd.read_csv('data/ground-truth-data.csv')"
   ]
  },
  {
   "cell_type": "code",
   "execution_count": 24,
   "id": "eb44a96c-6ad4-4152-ac9f-3ffa813b5424",
   "metadata": {},
   "outputs": [
    {
     "data": {
      "text/html": [
       "<div>\n",
       "<style scoped>\n",
       "    .dataframe tbody tr th:only-of-type {\n",
       "        vertical-align: middle;\n",
       "    }\n",
       "\n",
       "    .dataframe tbody tr th {\n",
       "        vertical-align: top;\n",
       "    }\n",
       "\n",
       "    .dataframe thead th {\n",
       "        text-align: right;\n",
       "    }\n",
       "</style>\n",
       "<table border=\"1\" class=\"dataframe\">\n",
       "  <thead>\n",
       "    <tr style=\"text-align: right;\">\n",
       "      <th></th>\n",
       "      <th>question</th>\n",
       "      <th>diet</th>\n",
       "      <th>document</th>\n",
       "    </tr>\n",
       "  </thead>\n",
       "  <tbody>\n",
       "    <tr>\n",
       "      <th>0</th>\n",
       "      <td>What evidence exists to support the effectiven...</td>\n",
       "      <td>keto diet</td>\n",
       "      <td>973d6f85</td>\n",
       "    </tr>\n",
       "    <tr>\n",
       "      <th>1</th>\n",
       "      <td>How does the initial weight loss on a ketogeni...</td>\n",
       "      <td>keto diet</td>\n",
       "      <td>973d6f85</td>\n",
       "    </tr>\n",
       "    <tr>\n",
       "      <th>2</th>\n",
       "      <td>What is the impact of carbohydrate intake on o...</td>\n",
       "      <td>keto diet</td>\n",
       "      <td>973d6f85</td>\n",
       "    </tr>\n",
       "    <tr>\n",
       "      <th>3</th>\n",
       "      <td>Can excess fat consumption on a ketogenic diet...</td>\n",
       "      <td>keto diet</td>\n",
       "      <td>973d6f85</td>\n",
       "    </tr>\n",
       "    <tr>\n",
       "      <th>4</th>\n",
       "      <td>What role do water loss and fat loss play in t...</td>\n",
       "      <td>keto diet</td>\n",
       "      <td>973d6f85</td>\n",
       "    </tr>\n",
       "  </tbody>\n",
       "</table>\n",
       "</div>"
      ],
      "text/plain": [
       "                                            question       diet  document\n",
       "0  What evidence exists to support the effectiven...  keto diet  973d6f85\n",
       "1  How does the initial weight loss on a ketogeni...  keto diet  973d6f85\n",
       "2  What is the impact of carbohydrate intake on o...  keto diet  973d6f85\n",
       "3  Can excess fat consumption on a ketogenic diet...  keto diet  973d6f85\n",
       "4  What role do water loss and fat loss play in t...  keto diet  973d6f85"
      ]
     },
     "execution_count": 24,
     "metadata": {},
     "output_type": "execute_result"
    }
   ],
   "source": [
    "df_question.head()"
   ]
  },
  {
   "cell_type": "code",
   "execution_count": 19,
   "id": "e1736ae4-6af8-46dd-8077-2a702da790c4",
   "metadata": {},
   "outputs": [],
   "source": [
    "ground_truth = df_question.to_dict(orient='records')"
   ]
  },
  {
   "cell_type": "code",
   "execution_count": 41,
   "id": "baf7e586-a92c-4a18-96ff-c05d7adefdd2",
   "metadata": {},
   "outputs": [
    {
     "data": {
      "text/plain": [
       "'What evidence exists to support the effectiveness of a ketogenic diet for weight loss?'"
      ]
     },
     "execution_count": 41,
     "metadata": {},
     "output_type": "execute_result"
    }
   ],
   "source": [
    "ground_truth[0]['question']"
   ]
  },
  {
   "cell_type": "code",
   "execution_count": 20,
   "id": "29ae2f59-fc21-4361-b18c-809afa5c3b16",
   "metadata": {},
   "outputs": [],
   "source": [
    "def hit_rate(relevance_total):\n",
    "    cnt = 0\n",
    "\n",
    "    for line in relevance_total:\n",
    "        if True in line:\n",
    "            cnt = cnt + 1\n",
    "\n",
    "    return cnt / len(relevance_total)\n",
    "    \n",
    "def mrr(relevance_total):\n",
    "    total_score = 0.0\n",
    "\n",
    "    for line in relevance_total:\n",
    "        for rank in range(len(line)):\n",
    "            if line[rank] == True:\n",
    "                total_score = total_score + 1 / (rank + 1)\n",
    "\n",
    "    return total_score / len(relevance_total)"
   ]
  },
  {
   "cell_type": "code",
   "execution_count": 35,
   "id": "929ddf42-f5c7-42e2-9e84-ad0fef256bfe",
   "metadata": {},
   "outputs": [],
   "source": [
    "def minsearch_search(query):\n",
    "    boost = {}\n",
    "\n",
    "    results = index.search(\n",
    "        query=query,\n",
    "        filter_dict={},\n",
    "        boost_dict=boost,\n",
    "        num_results=5\n",
    "    )\n",
    "\n",
    "    return results\n"
   ]
  },
  {
   "cell_type": "code",
   "execution_count": 36,
   "id": "80c73cc8-136e-41d8-9c34-85051e41a7d5",
   "metadata": {},
   "outputs": [],
   "source": [
    "def evaluate(ground_truth, search_function):\n",
    "    relevance_total = []\n",
    "\n",
    "    for q in tqdm(ground_truth):\n",
    "        doc_id = q['document']\n",
    "        results = search_function(q)\n",
    "        relevance = [d['id'] == doc_id for d in results]\n",
    "        relevance_total.append(relevance)\n",
    "\n",
    "    return {\n",
    "        'hit_rate': hit_rate(relevance_total),\n",
    "        'mrr': mrr(relevance_total),\n",
    "    }"
   ]
  },
  {
   "cell_type": "code",
   "execution_count": 39,
   "id": "201c6cd7-7aff-42cb-b4a8-8a6eeb59195d",
   "metadata": {},
   "outputs": [
    {
     "name": "stderr",
     "output_type": "stream",
     "text": [
      "100%|██████████████████████████████████████████████| 395/395 [00:00<00:00, 588.60it/s]\n"
     ]
    },
    {
     "data": {
      "text/plain": [
       "{'hit_rate': 0.7569620253164557, 'mrr': 0.5881434599156119}"
      ]
     },
     "execution_count": 39,
     "metadata": {},
     "output_type": "execute_result"
    }
   ],
   "source": [
    "evaluate(ground_truth, lambda q: search(q['question']))\n"
   ]
  },
  {
   "cell_type": "markdown",
   "id": "cd6104f9-093e-49bf-9ca5-5a825e5ec996",
   "metadata": {},
   "source": [
    "minsearch result on question : {'hit_rate': 0.7569620253164557, 'mrr': 0.5881434599156119}\n"
   ]
  },
  {
   "cell_type": "code",
   "execution_count": 46,
   "id": "bc5d14b4-09b3-46e4-b5b8-66c0cfc54797",
   "metadata": {},
   "outputs": [
    {
     "data": {
      "text/plain": [
       "395"
      ]
     },
     "execution_count": 46,
     "metadata": {},
     "output_type": "execute_result"
    }
   ],
   "source": [
    "len(df_question)"
   ]
  },
  {
   "cell_type": "markdown",
   "id": "0a637f49-0159-4e2c-80e4-50d643de80a7",
   "metadata": {},
   "source": [
    "## Retrieval evaluation for elasticsearch"
   ]
  },
  {
   "cell_type": "code",
   "execution_count": 20,
   "id": "efa4c584-c7bd-4750-abe8-a9aa832d7b2f",
   "metadata": {},
   "outputs": [],
   "source": [
    "df_question = pd.read_csv('data/ground-truth-data.csv')"
   ]
  },
  {
   "cell_type": "code",
   "execution_count": 21,
   "id": "9a435758-c8aa-4f38-b806-4fe8bba560fc",
   "metadata": {},
   "outputs": [],
   "source": [
    "ground_truth = df_question.to_dict(orient='records')"
   ]
  },
  {
   "cell_type": "code",
   "execution_count": 26,
   "id": "f19ed55e-5e95-4dc0-805e-268365448229",
   "metadata": {},
   "outputs": [
    {
     "data": {
      "text/plain": [
       "{'question': 'What evidence exists to support the effectiveness of a ketogenic diet for weight loss?',\n",
       " 'diet': 'keto diet',\n",
       " 'document': '973d6f85'}"
      ]
     },
     "execution_count": 26,
     "metadata": {},
     "output_type": "execute_result"
    }
   ],
   "source": [
    "ground_truth[0]"
   ]
  },
  {
   "cell_type": "code",
   "execution_count": 62,
   "id": "8d5745e8-150c-456b-8833-04483543ee9a",
   "metadata": {},
   "outputs": [],
   "source": [
    "def evaluate(ground_truth, search_function):\n",
    "    relevance_total = []\n",
    "\n",
    "    check_l = []\n",
    "\n",
    "    i=0\n",
    "\n",
    "    for q in tqdm(ground_truth):\n",
    "        \n",
    "        doc_id = q['document']\n",
    "        results = search_function(q)\n",
    "        relevance = [d['id'] == doc_id for d in results]\n",
    "        relevance_total.append(relevance)\n",
    "        if True not in relevance:\n",
    "            check_l.append(i)\n",
    "            \n",
    "        i+=1\n",
    "        \n",
    "    print(check_l)\n",
    "\n",
    "    return {\n",
    "        'hit_rate': hit_rate(relevance_total),\n",
    "        'mrr': mrr(relevance_total),\n",
    "    }"
   ]
  },
  {
   "cell_type": "code",
   "execution_count": 47,
   "id": "8aea5d05-4ef8-40c9-b04b-3736097bbbe9",
   "metadata": {},
   "outputs": [],
   "source": [
    "def search_es(q_gt, query_vector):\n",
    "    question = q_gt['question']\n",
    "    diet = q_gt['diet']\n",
    "    \n",
    "    v_q = model.encode(question)\n",
    "\n",
    "    return  elastic_search_knn(query_vector, v_q, diet)"
   ]
  },
  {
   "cell_type": "code",
   "execution_count": 63,
   "id": "a3c96b22-e4dd-4d5a-90a6-f0341da7bb67",
   "metadata": {},
   "outputs": [
    {
     "name": "stderr",
     "output_type": "stream",
     "text": [
      "100%|███████████████████████████████████████████████| 395/395 [00:08<00:00, 48.52it/s]"
     ]
    },
    {
     "name": "stdout",
     "output_type": "stream",
     "text": [
      "[8, 9, 11, 13, 14, 22, 37, 38, 39, 41, 42, 44, 49, 78, 81, 84, 86, 87, 88, 97, 98, 99, 102, 106, 107, 108, 109, 111, 119, 129, 154, 156, 158, 159, 163, 171, 182, 184, 191, 194, 201, 219, 224, 226, 228, 237, 244, 246, 247, 248, 252, 253, 259, 264, 266, 278, 281, 282, 284, 288, 293, 294, 298, 309, 326, 327, 328, 338, 348, 363, 366, 367, 368, 392]\n"
     ]
    },
    {
     "name": "stderr",
     "output_type": "stream",
     "text": [
      "\n"
     ]
    },
    {
     "data": {
      "text/plain": [
       "{'hit_rate': 0.8126582278481013, 'mrr': 0.649282700421941}"
      ]
     },
     "execution_count": 63,
     "metadata": {},
     "output_type": "execute_result"
    }
   ],
   "source": [
    "evaluate(ground_truth, lambda q: search_es(q, \"question_answer_vector\"))"
   ]
  },
  {
   "cell_type": "markdown",
   "id": "e18790cf-1360-4722-9473-222215726658",
   "metadata": {},
   "source": [
    "Vector search result on \"query_vector\" = \"question_answer_vector\" : {'hit_rate': 0.8126582278481013, 'mrr': 0.649282700421941}\n"
   ]
  },
  {
   "cell_type": "markdown",
   "id": "99c9b188-05ed-42b8-a746-0c591cb07762",
   "metadata": {},
   "source": [
    "Vector search result on \"query_vector\" = \"answer_vector\" : {'hit_rate': 0.7873417721518987, 'mrr': 0.609662447257384}\n"
   ]
  },
  {
   "cell_type": "markdown",
   "id": "a557112a-720a-46ee-a33e-2bc258f784f3",
   "metadata": {},
   "source": [
    "Vector search result on \"query_vector\" = \"question_vector\" : {'hit_rate': 0.6379746835443038, 'mrr': 0.4820675105485234}\n",
    "\n"
   ]
  },
  {
   "cell_type": "code",
   "execution_count": 42,
   "id": "3f3db228-9221-43e3-818a-c87373a051c4",
   "metadata": {},
   "outputs": [],
   "source": [
    "def search_es_combined(q_gt):\n",
    "    question = q_gt['question']\n",
    "    diet = q_gt['diet']\n",
    "    \n",
    "    v_q = model.encode(question)\n",
    "\n",
    "    return  elastic_search_knn_combined(v_q, diet)"
   ]
  },
  {
   "cell_type": "code",
   "execution_count": 43,
   "id": "4dd45792-13fe-4fcd-bf39-e5b1764dcd50",
   "metadata": {},
   "outputs": [
    {
     "name": "stderr",
     "output_type": "stream",
     "text": [
      "100%|███████████████████████████████████████████████| 395/395 [00:09<00:00, 41.91it/s]\n"
     ]
    },
    {
     "data": {
      "text/plain": [
       "{'hit_rate': 0.7949367088607595, 'mrr': 0.6284810126582281}"
      ]
     },
     "execution_count": 43,
     "metadata": {},
     "output_type": "execute_result"
    }
   ],
   "source": [
    "evaluate(ground_truth, lambda q: search_es_combined(q))"
   ]
  },
  {
   "cell_type": "markdown",
   "id": "e0a616fd-8b01-4a99-9546-687b09ccd09f",
   "metadata": {},
   "source": [
    "Vector search result using combined vector : {'hit_rate': 0.7949367088607595, 'mrr': 0.6284810126582281}"
   ]
  },
  {
   "cell_type": "code",
   "execution_count": 57,
   "id": "47d61c87-e3ee-4495-a08d-14964f3f3be9",
   "metadata": {},
   "outputs": [],
   "source": [
    "l= ['f5ef0117', 'f5ef0117', '5ae7a1b5', '5ae7a1b5', '5ae7a1b5', '9ec6094c', 'd575b7e4', 'd575b7e4', 'd575b7e4', 'c85cad6f', 'c85cad6f', 'c85cad6f', '6d61cf05', '6334339f', '418404aa', '418404aa', '42c7343f', '42c7343f', '42c7343f', '999384c5', '999384c5', '999384c5', 'ddbe583f', '9fca21c3', '9fca21c3', '9fca21c3', '9fca21c3', 'b9f44140', '3774fee7', '3e26bc72', 'e31ce8e1', '0cdef088', '0cdef088', '0cdef088', '2c0d4643', '7ffa1080', 'd3a79a81', 'd3a79a81', '009bb121', '009bb121', 'abebc5be', '916a689d', '391b4595', '17524276', '17524276', '7ae8e3d8', '5f652986', '6c719104', '6c719104', '6c719104', '4f3c281b', '4f3c281b', '343284ad', 'ad920ee2', '79b89408', 'efb5f0ee', '6d03704c', '6d03704c', '6d03704c', '6b3c892f', 'f68dfdd8', 'f68dfdd8', '55f7a1ca', '15475b16', '8b478b1d', '8b478b1d', '8b478b1d', '591b5ae1', '27b3cfe8', '5013f1cb', '2014aa8f', '2014aa8f', '2014aa8f', 'f643b4c6']"
   ]
  },
  {
   "cell_type": "code",
   "execution_count": 58,
   "id": "216e0433-0c07-4bb8-b827-71e5f6569613",
   "metadata": {},
   "outputs": [
    {
     "data": {
      "text/plain": [
       "74"
      ]
     },
     "execution_count": 58,
     "metadata": {},
     "output_type": "execute_result"
    }
   ],
   "source": [
    "len(l)"
   ]
  },
  {
   "cell_type": "code",
   "execution_count": 54,
   "id": "2b522999-b8c3-434a-8a93-193fbf109a21",
   "metadata": {},
   "outputs": [
    {
     "data": {
      "text/plain": [
       "395"
      ]
     },
     "execution_count": 54,
     "metadata": {},
     "output_type": "execute_result"
    }
   ],
   "source": [
    "len(ground_truth)"
   ]
  },
  {
   "cell_type": "code",
   "execution_count": 35,
   "id": "83787ec1-b308-4958-924c-6d639f44e343",
   "metadata": {},
   "outputs": [
    {
     "data": {
      "text/plain": [
       "'keto diet'"
      ]
     },
     "execution_count": 35,
     "metadata": {},
     "output_type": "execute_result"
    }
   ],
   "source": [
    "ground_truth[8]['diet']"
   ]
  },
  {
   "cell_type": "code",
   "execution_count": 65,
   "id": "6965c469-e0e8-4506-b673-45585859994d",
   "metadata": {},
   "outputs": [],
   "source": [
    "res = search_es(ground_truth[8], \"question_answer_vector\")"
   ]
  },
  {
   "cell_type": "code",
   "execution_count": 66,
   "id": "9e44f55c-2b2c-4129-97ed-d94068590e8f",
   "metadata": {},
   "outputs": [
    {
     "data": {
      "text/plain": [
       "[{'question': 'What are the benefits of a keto diet?',\n",
       "  'answer': 'Supports weight loss, Improves acne, May reduce the risk of certain cancers, May improve heart health, May protect brain function, Potentially reduces seizures, Improves PCOS symptoms, Risks and complications',\n",
       "  'link': 'https://www.linkedin.com/pulse/20-most-asked-questions-keto-diet-certified-operation-s-management-/',\n",
       "  'diet': 'keto diet',\n",
       "  'id': 'e16ef5cc'},\n",
       " {'question': 'What About High Cholesterol and Heart Attacks From All This Fat?',\n",
       "  'answer': 'The current literature indicates that the keto diet typically increases HDL cholesterol levels, increases LDL cholesterol levels (primarily by increasing LDL particle size), and decreases triglyceride levels. Keto eating can improve several other risk factors for heart disease, including high blood pressure, type 2 diabetes, and abdominal obesity. However, it is crucial to monitor your health when making any major dietary change.',\n",
       "  'link': 'https://www.ruled.me/ketogenic-diet-faq/',\n",
       "  'diet': 'keto diet',\n",
       "  'id': '4f010bc4'},\n",
       " {'question': 'How Do I Increase My Ketone Levels Naturally?',\n",
       "  'answer': 'The best way to increase ketone levels is with a ketogenic diet. This typically requires limiting daily carbohydrate intake to 35 grams of total carbs and 25 grams of net carbs. To increase ketone levels more quickly, you can restrict carb intake below 20g, supplement with MCT Oil, drink a caffeinated beverage in the morning, practice intermittent fasting, implement the fat fasting technique, and add exercise to your daily routine.',\n",
       "  'link': 'https://www.ruled.me/ketogenic-diet-faq/',\n",
       "  'diet': 'keto diet',\n",
       "  'id': '79b89408'},\n",
       " {'question': 'What are the advantages and disadvantages of a ketogenic diet?',\n",
       "  'answer': 'ADVANTAGES: Weight loss, Lower cholesterol, Reduces risk of heart disease, Lowers blood pressure, Diabetes-friendly & Cognition friendly. DISADVANTAGES: Getting used to it, Bowel complaints, It may feel restrictive & High cholesterol.',\n",
       "  'link': 'https://www.linkedin.com/pulse/20-most-asked-questions-keto-diet-certified-operation-s-management-/',\n",
       "  'diet': 'keto diet',\n",
       "  'id': '6d61cf05'},\n",
       " {'question': 'How does a Ketogenic diet change your life?',\n",
       "  'answer': 'In ketosis, you will feel less hungry as your body runs off the ketones in your bloodstream and the fats you are consuming. The Optima keto diet could cause low blood pressure, kidney stones, constipation, nutrient deficiencies, and an increased risk of heart disease. Strict diets like keto could also cause social isolation or disordered eating. Keto is not safe for those with any conditions involving their pancreas, liver, thyroid, or gallbladder. Ketone levels can increase your energy as well as improve brain health, gut function, and hormone balance.',\n",
       "  'link': 'https://www.linkedin.com/pulse/20-most-asked-questions-keto-diet-certified-operation-s-management-/',\n",
       "  'diet': 'keto diet',\n",
       "  'id': '2461f72a'}]"
      ]
     },
     "execution_count": 66,
     "metadata": {},
     "output_type": "execute_result"
    }
   ],
   "source": [
    "res"
   ]
  },
  {
   "cell_type": "code",
   "execution_count": 68,
   "id": "5ff9d7d6-1ca4-4706-9294-b6470f2dd1a8",
   "metadata": {},
   "outputs": [],
   "source": [
    "result = [item for item in documents if item['id'] == 'f5ef0117']\n"
   ]
  },
  {
   "cell_type": "markdown",
   "id": "e0380858-ef7b-4dbb-9fc1-288e1ebaea14",
   "metadata": {},
   "source": [
    "## LLM as judge"
   ]
  },
  {
   "cell_type": "code",
   "execution_count": 5,
   "id": "da872ca7-e0f4-4d67-9079-ccbfe11126c3",
   "metadata": {},
   "outputs": [],
   "source": [
    "df_gpt4omini = pd.read_csv('data/results-gpt4omini.csv')"
   ]
  },
  {
   "cell_type": "code",
   "execution_count": 11,
   "id": "bdc75afa-a5a3-4872-96dc-7432b511ca10",
   "metadata": {},
   "outputs": [
    {
     "data": {
      "text/html": [
       "<div>\n",
       "<style scoped>\n",
       "    .dataframe tbody tr th:only-of-type {\n",
       "        vertical-align: middle;\n",
       "    }\n",
       "\n",
       "    .dataframe tbody tr th {\n",
       "        vertical-align: top;\n",
       "    }\n",
       "\n",
       "    .dataframe thead th {\n",
       "        text-align: right;\n",
       "    }\n",
       "</style>\n",
       "<table border=\"1\" class=\"dataframe\">\n",
       "  <thead>\n",
       "    <tr style=\"text-align: right;\">\n",
       "      <th></th>\n",
       "      <th>answer_llm</th>\n",
       "      <th>answer_orig</th>\n",
       "      <th>id</th>\n",
       "      <th>question</th>\n",
       "      <th>diet</th>\n",
       "      <th>document</th>\n",
       "    </tr>\n",
       "  </thead>\n",
       "  <tbody>\n",
       "    <tr>\n",
       "      <th>0</th>\n",
       "      <td>Research has shown that a ketogenic diet can i...</td>\n",
       "      <td>Research has shown a ketogenic diet can induce...</td>\n",
       "      <td>973d6f85</td>\n",
       "      <td>What evidence exists to support the effectiven...</td>\n",
       "      <td>keto diet</td>\n",
       "      <td>973d6f85</td>\n",
       "    </tr>\n",
       "    <tr>\n",
       "      <th>1</th>\n",
       "      <td>The initial weight loss on a ketogenic diet is...</td>\n",
       "      <td>Research has shown a ketogenic diet can induce...</td>\n",
       "      <td>973d6f85</td>\n",
       "      <td>How does the initial weight loss on a ketogeni...</td>\n",
       "      <td>keto diet</td>\n",
       "      <td>973d6f85</td>\n",
       "    </tr>\n",
       "    <tr>\n",
       "      <th>2</th>\n",
       "      <td>In a ketogenic diet, carbohydrate intake is si...</td>\n",
       "      <td>Research has shown a ketogenic diet can induce...</td>\n",
       "      <td>973d6f85</td>\n",
       "      <td>What is the impact of carbohydrate intake on o...</td>\n",
       "      <td>keto diet</td>\n",
       "      <td>973d6f85</td>\n",
       "    </tr>\n",
       "    <tr>\n",
       "      <th>3</th>\n",
       "      <td>Yes, excess fat consumption on a ketogenic die...</td>\n",
       "      <td>Research has shown a ketogenic diet can induce...</td>\n",
       "      <td>973d6f85</td>\n",
       "      <td>Can excess fat consumption on a ketogenic diet...</td>\n",
       "      <td>keto diet</td>\n",
       "      <td>973d6f85</td>\n",
       "    </tr>\n",
       "    <tr>\n",
       "      <th>4</th>\n",
       "      <td>The rapid weight loss associated with ketogeni...</td>\n",
       "      <td>Research has shown a ketogenic diet can induce...</td>\n",
       "      <td>973d6f85</td>\n",
       "      <td>What role do water loss and fat loss play in t...</td>\n",
       "      <td>keto diet</td>\n",
       "      <td>973d6f85</td>\n",
       "    </tr>\n",
       "  </tbody>\n",
       "</table>\n",
       "</div>"
      ],
      "text/plain": [
       "                                          answer_llm  \\\n",
       "0  Research has shown that a ketogenic diet can i...   \n",
       "1  The initial weight loss on a ketogenic diet is...   \n",
       "2  In a ketogenic diet, carbohydrate intake is si...   \n",
       "3  Yes, excess fat consumption on a ketogenic die...   \n",
       "4  The rapid weight loss associated with ketogeni...   \n",
       "\n",
       "                                         answer_orig        id  \\\n",
       "0  Research has shown a ketogenic diet can induce...  973d6f85   \n",
       "1  Research has shown a ketogenic diet can induce...  973d6f85   \n",
       "2  Research has shown a ketogenic diet can induce...  973d6f85   \n",
       "3  Research has shown a ketogenic diet can induce...  973d6f85   \n",
       "4  Research has shown a ketogenic diet can induce...  973d6f85   \n",
       "\n",
       "                                            question       diet  document  \n",
       "0  What evidence exists to support the effectiven...  keto diet  973d6f85  \n",
       "1  How does the initial weight loss on a ketogeni...  keto diet  973d6f85  \n",
       "2  What is the impact of carbohydrate intake on o...  keto diet  973d6f85  \n",
       "3  Can excess fat consumption on a ketogenic diet...  keto diet  973d6f85  \n",
       "4  What role do water loss and fat loss play in t...  keto diet  973d6f85  "
      ]
     },
     "execution_count": 11,
     "metadata": {},
     "output_type": "execute_result"
    }
   ],
   "source": [
    "df_gpt4omini.head()"
   ]
  },
  {
   "cell_type": "code",
   "execution_count": 8,
   "id": "dbedf50f-f9ec-4fc0-b49b-f39eef9e3cac",
   "metadata": {},
   "outputs": [],
   "source": [
    "dict_gpt4omini = df_gpt4omini.to_dict(orient = 'records')"
   ]
  },
  {
   "cell_type": "code",
   "execution_count": 9,
   "id": "3d1b1317-d832-44e9-9c18-edfb0afe5b60",
   "metadata": {},
   "outputs": [],
   "source": [
    "record = dict_gpt4omini[0]"
   ]
  },
  {
   "cell_type": "code",
   "execution_count": 10,
   "id": "305e97f4-6950-462b-9640-7ae4dc134990",
   "metadata": {},
   "outputs": [],
   "source": [
    "prompt1_template = \"\"\"\n",
    "You are an expert evaluator for a Retrieval-Augmented Generation (RAG) system.\n",
    "Your task is to analyze the relevance of the generated answer compared to the original answer provided.\n",
    "Based on the relevance and similarity of the generated answer to the original answer, you will classify\n",
    "it as \"NON_RELEVANT\", \"PARTLY_RELEVANT\", or \"RELEVANT\".\n",
    "\n",
    "Here is the data for evaluation:\n",
    "\n",
    "Original Answer: {answer_orig}\n",
    "Generated Question: {question}\n",
    "Generated Answer: {answer_llm}\n",
    "\n",
    "Please analyze the content and context of the generated answer in relation to the original\n",
    "answer and provide your evaluation in parsable JSON without using code blocks:\n",
    "\n",
    "{{\n",
    "  \"Relevance\": \"NON_RELEVANT\" | \"PARTLY_RELEVANT\" | \"RELEVANT\",\n",
    "  \"Explanation\": \"[Provide a brief explanation for your evaluation]\"\n",
    "}}\n",
    "\"\"\".strip()"
   ]
  },
  {
   "cell_type": "code",
   "execution_count": 17,
   "id": "4696bf9a-4f3e-4e27-b9eb-354a587ee83a",
   "metadata": {},
   "outputs": [],
   "source": [
    "prompt = prompt1_template.format(**record)"
   ]
  },
  {
   "cell_type": "code",
   "execution_count": 19,
   "id": "443681e7-3fa8-436a-afed-cf4649527c94",
   "metadata": {},
   "outputs": [],
   "source": [
    "ans = llm(prompt)"
   ]
  },
  {
   "cell_type": "code",
   "execution_count": 21,
   "id": "55aef807-34c8-4491-a2ed-9b45074f73e5",
   "metadata": {},
   "outputs": [
    {
     "data": {
      "text/plain": [
       "{'Relevance': 'RELEVANT',\n",
       " 'Explanation': \"The generated answer closely mirrors the original answer, accurately summarizing key points about the ketogenic diet's effects on weight loss, the role of carbohydrate intake, and the importance of calorie balance. It captures both the immediate and long-term efficacy of the diet as outlined in the original.\"}"
      ]
     },
     "execution_count": 21,
     "metadata": {},
     "output_type": "execute_result"
    }
   ],
   "source": [
    "json.loads(ans)"
   ]
  },
  {
   "cell_type": "code",
   "execution_count": 29,
   "id": "ae7b646d-5bb8-4b88-b1aa-97160e22690a",
   "metadata": {},
   "outputs": [
    {
     "name": "stderr",
     "output_type": "stream",
     "text": [
      "100%|██████████████████████████████████████████████████████████████████████████████████████████████████████████████████████████████████| 395/395 [07:35<00:00,  1.15s/it]\n"
     ]
    }
   ],
   "source": [
    "ls_ans = []\n",
    "\n",
    "for rec in tqdm(dict_gpt4omini):\n",
    "    prompt = prompt1_template.format(**rec)\n",
    "    ans = llm(prompt)\n",
    "    ls_ans.append(ans)"
   ]
  },
  {
   "cell_type": "code",
   "execution_count": 31,
   "id": "c1c992e0-e17f-4b1d-bcef-57c2856206c5",
   "metadata": {},
   "outputs": [],
   "source": [
    "json_evaluations = []\n",
    "\n",
    "for i, str_eval in enumerate(ls_ans):\n",
    "    json_eval = json.loads(str_eval)\n",
    "    json_evaluations.append(json_eval)"
   ]
  },
  {
   "cell_type": "code",
   "execution_count": 32,
   "id": "d3d7bdf9-f7f1-4764-9a86-1e3b02e68956",
   "metadata": {},
   "outputs": [],
   "source": [
    "df_evaluations = pd.DataFrame(json_evaluations)"
   ]
  },
  {
   "cell_type": "code",
   "execution_count": 37,
   "id": "403b283b-3704-403e-9452-9f73679bb70b",
   "metadata": {},
   "outputs": [
    {
     "data": {
      "text/plain": [
       "Relevance\n",
       "RELEVANT           299\n",
       "PARTLY_RELEVANT     96\n",
       "Name: count, dtype: int64"
      ]
     },
     "execution_count": 37,
     "metadata": {},
     "output_type": "execute_result"
    }
   ],
   "source": [
    "df_evaluations.Relevance.value_counts()"
   ]
  },
  {
   "cell_type": "code",
   "execution_count": 38,
   "id": "02a1dac8-006f-4cb8-ade7-675b348af42a",
   "metadata": {},
   "outputs": [],
   "source": [
    "df_evaluations.to_csv('data/res_evaluations_with_gpt-4o-mini.csv', index=False)"
   ]
  },
  {
   "cell_type": "code",
   "execution_count": 39,
   "id": "50a77cb9-5721-48f7-aec9-01280f22929f",
   "metadata": {},
   "outputs": [],
   "source": [
    "prompt2_template = \"\"\"\n",
    "You are an expert evaluator for a Retrieval-Augmented Generation (RAG) system.\n",
    "Your task is to analyze the relevance of the generated answer to the given question.\n",
    "Based on the relevance of the generated answer, you will classify it\n",
    "as \"NON_RELEVANT\", \"PARTLY_RELEVANT\", or \"RELEVANT\".\n",
    "\n",
    "Here is the data for evaluation:\n",
    "\n",
    "Question: {question}\n",
    "Generated Answer: {answer_llm}\n",
    "\n",
    "Please analyze the content and context of the generated answer in relation to the question\n",
    "and provide your evaluation in parsable JSON without using code blocks:\n",
    "\n",
    "{{\n",
    "  \"Relevance\": \"NON_RELEVANT\" | \"PARTLY_RELEVANT\" | \"RELEVANT\",\n",
    "  \"Explanation\": \"[Provide a brief explanation for your evaluation]\"\n",
    "}}\n",
    "\"\"\".strip()"
   ]
  },
  {
   "cell_type": "code",
   "execution_count": 40,
   "id": "7193e94b-6db7-440f-8c5b-37225afbb827",
   "metadata": {},
   "outputs": [
    {
     "name": "stderr",
     "output_type": "stream",
     "text": [
      "100%|██████████████████████████████████████████████████████████████████████████████████████████████████████████████████████████████████| 395/395 [06:40<00:00,  1.01s/it]\n"
     ]
    }
   ],
   "source": [
    "ls_ans_2 = []\n",
    "\n",
    "for rec in tqdm(dict_gpt4omini):\n",
    "    prompt = prompt2_template.format(**rec)\n",
    "    ans = llm(prompt)\n",
    "    ls_ans_2.append(ans)"
   ]
  },
  {
   "cell_type": "code",
   "execution_count": 41,
   "id": "e49e0a89-0598-42d4-b135-e386880a9bdb",
   "metadata": {},
   "outputs": [
    {
     "data": {
      "text/plain": [
       "Relevance\n",
       "RELEVANT           382\n",
       "PARTLY_RELEVANT     13\n",
       "Name: count, dtype: int64"
      ]
     },
     "execution_count": 41,
     "metadata": {},
     "output_type": "execute_result"
    }
   ],
   "source": [
    "json_evaluations_2 = []\n",
    "\n",
    "for i, str_eval in enumerate(ls_ans_2):\n",
    "    json_eval = json.loads(str_eval)\n",
    "    json_evaluations_2.append(json_eval)\n",
    "\n",
    "df_evaluations_2 = pd.DataFrame(json_evaluations_2)\n",
    "df_evaluations_2.Relevance.value_counts()"
   ]
  },
  {
   "cell_type": "code",
   "execution_count": 42,
   "id": "b478c1f9-be2d-464e-9b84-a46044c1408f",
   "metadata": {},
   "outputs": [],
   "source": [
    "df_evaluations_2.to_csv('data/res_evaluations_with_gpt-4o-mini_2.csv', index=False)"
   ]
  },
  {
   "cell_type": "code",
   "execution_count": 45,
   "id": "87aac862-fc67-4dec-8612-07f2292a34d3",
   "metadata": {},
   "outputs": [
    {
     "data": {
      "text/html": [
       "<div>\n",
       "<style scoped>\n",
       "    .dataframe tbody tr th:only-of-type {\n",
       "        vertical-align: middle;\n",
       "    }\n",
       "\n",
       "    .dataframe tbody tr th {\n",
       "        vertical-align: top;\n",
       "    }\n",
       "\n",
       "    .dataframe thead th {\n",
       "        text-align: right;\n",
       "    }\n",
       "</style>\n",
       "<table border=\"1\" class=\"dataframe\">\n",
       "  <thead>\n",
       "    <tr style=\"text-align: right;\">\n",
       "      <th></th>\n",
       "      <th>Relevance</th>\n",
       "      <th>Explanation</th>\n",
       "    </tr>\n",
       "  </thead>\n",
       "  <tbody>\n",
       "    <tr>\n",
       "      <th>12</th>\n",
       "      <td>PARTLY_RELEVANT</td>\n",
       "      <td>The generated answer addresses a specific grou...</td>\n",
       "    </tr>\n",
       "    <tr>\n",
       "      <th>41</th>\n",
       "      <td>PARTLY_RELEVANT</td>\n",
       "      <td>The generated answer discusses individuals who...</td>\n",
       "    </tr>\n",
       "    <tr>\n",
       "      <th>50</th>\n",
       "      <td>PARTLY_RELEVANT</td>\n",
       "      <td>The generated answer correctly identifies gluc...</td>\n",
       "    </tr>\n",
       "    <tr>\n",
       "      <th>66</th>\n",
       "      <td>PARTLY_RELEVANT</td>\n",
       "      <td>The generated answer addresses the question ab...</td>\n",
       "    </tr>\n",
       "    <tr>\n",
       "      <th>68</th>\n",
       "      <td>PARTLY_RELEVANT</td>\n",
       "      <td>The generated answer mentions baked goods that...</td>\n",
       "    </tr>\n",
       "    <tr>\n",
       "      <th>78</th>\n",
       "      <td>PARTLY_RELEVANT</td>\n",
       "      <td>The generated answer provides some information...</td>\n",
       "    </tr>\n",
       "    <tr>\n",
       "      <th>107</th>\n",
       "      <td>PARTLY_RELEVANT</td>\n",
       "      <td>The generated answer acknowledges that there i...</td>\n",
       "    </tr>\n",
       "    <tr>\n",
       "      <th>292</th>\n",
       "      <td>PARTLY_RELEVANT</td>\n",
       "      <td>The generated answer discusses the impact of e...</td>\n",
       "    </tr>\n",
       "    <tr>\n",
       "      <th>318</th>\n",
       "      <td>PARTLY_RELEVANT</td>\n",
       "      <td>The generated answer addresses the consumption...</td>\n",
       "    </tr>\n",
       "    <tr>\n",
       "      <th>362</th>\n",
       "      <td>PARTLY_RELEVANT</td>\n",
       "      <td>The generated answer focuses on food items to ...</td>\n",
       "    </tr>\n",
       "    <tr>\n",
       "      <th>364</th>\n",
       "      <td>PARTLY_RELEVANT</td>\n",
       "      <td>The answer provides some actionable suggestion...</td>\n",
       "    </tr>\n",
       "    <tr>\n",
       "      <th>377</th>\n",
       "      <td>PARTLY_RELEVANT</td>\n",
       "      <td>The generated answer addresses the keto diet's...</td>\n",
       "    </tr>\n",
       "    <tr>\n",
       "      <th>392</th>\n",
       "      <td>PARTLY_RELEVANT</td>\n",
       "      <td>The generated answer does mention some common ...</td>\n",
       "    </tr>\n",
       "  </tbody>\n",
       "</table>\n",
       "</div>"
      ],
      "text/plain": [
       "           Relevance                                        Explanation\n",
       "12   PARTLY_RELEVANT  The generated answer addresses a specific grou...\n",
       "41   PARTLY_RELEVANT  The generated answer discusses individuals who...\n",
       "50   PARTLY_RELEVANT  The generated answer correctly identifies gluc...\n",
       "66   PARTLY_RELEVANT  The generated answer addresses the question ab...\n",
       "68   PARTLY_RELEVANT  The generated answer mentions baked goods that...\n",
       "78   PARTLY_RELEVANT  The generated answer provides some information...\n",
       "107  PARTLY_RELEVANT  The generated answer acknowledges that there i...\n",
       "292  PARTLY_RELEVANT  The generated answer discusses the impact of e...\n",
       "318  PARTLY_RELEVANT  The generated answer addresses the consumption...\n",
       "362  PARTLY_RELEVANT  The generated answer focuses on food items to ...\n",
       "364  PARTLY_RELEVANT  The answer provides some actionable suggestion...\n",
       "377  PARTLY_RELEVANT  The generated answer addresses the keto diet's...\n",
       "392  PARTLY_RELEVANT  The generated answer does mention some common ..."
      ]
     },
     "execution_count": 45,
     "metadata": {},
     "output_type": "execute_result"
    }
   ],
   "source": [
    "df_evaluations_2[df_evaluations_2.Relevance == 'PARTLY_RELEVANT']\n"
   ]
  },
  {
   "cell_type": "code",
   "execution_count": 46,
   "id": "a73c59ce-46ae-4fc0-bde8-46f0b4eda34d",
   "metadata": {},
   "outputs": [
    {
     "data": {
      "text/plain": [
       "{'answer_llm': 'A ketogenic diet might be advised for individuals with uncontrolled epilepsy, as it originated as a therapeutic diet to help control seizures in those patients.',\n",
       " 'answer_orig': 'While the ketogenic diet may be recommended for some people with uncontrolled epilepsy, the high-fat content — and especially the high level of unhealthy saturated fat — combined with limits on nutrient-rich fruits, veggies, and grains is a concern for long-term heart health.',\n",
       " 'id': '5ae7a1b5',\n",
       " 'question': 'Who might be advised to follow a ketogenic diet?',\n",
       " 'diet': 'keto diet',\n",
       " 'document': '5ae7a1b5'}"
      ]
     },
     "execution_count": 46,
     "metadata": {},
     "output_type": "execute_result"
    }
   ],
   "source": [
    "dict_gpt4omini[12]"
   ]
  },
  {
   "cell_type": "code",
   "execution_count": null,
   "id": "004828d3-4b1e-4927-a70e-d97d26e33e02",
   "metadata": {},
   "outputs": [],
   "source": []
  }
 ],
 "metadata": {
  "kernelspec": {
   "display_name": "Python 3 (ipykernel)",
   "language": "python",
   "name": "python3"
  },
  "language_info": {
   "codemirror_mode": {
    "name": "ipython",
    "version": 3
   },
   "file_extension": ".py",
   "mimetype": "text/x-python",
   "name": "python",
   "nbconvert_exporter": "python",
   "pygments_lexer": "ipython3",
   "version": "3.12.1"
  }
 },
 "nbformat": 4,
 "nbformat_minor": 5
}
